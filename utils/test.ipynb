{
 "cells": [
  {
   "cell_type": "code",
   "execution_count": 4,
   "metadata": {},
   "outputs": [
    {
     "name": "stdout",
     "output_type": "stream",
     "text": [
      "footprint\n",
      "└── fl_base_link\n",
      "\n",
      "footprint\n",
      "├── base_link\n",
      "│   ├── inertial_link\n",
      "│   ├── right_wheel_link\n",
      "│   ├── left_wheel_link\n",
      "│   ├── fl_castor_link\n",
      "│   │   └── fl_wheel_link\n",
      "│   ├── fr_castor_link\n",
      "│   │   └── fr_wheel_link\n",
      "│   ├── rr_castor_link\n",
      "│   │   └── rr_wheel_link\n",
      "│   └── rl_castor_link\n",
      "│       └── rl_wheel_link\n",
      "├── box1_Link\n",
      "│   ├── box2_Link\n",
      "│   └── camera_base_link\n",
      "│       └── camera_link1\n",
      "│           └── camera_link2\n",
      "├── fl_base_link\n",
      "│   └── fl_link1\n",
      "│       └── fl_link2\n",
      "│           └── fl_link3\n",
      "│               └── fl_link4\n",
      "│                   └── fl_link5\n",
      "│                       └── fl_link6\n",
      "│                           ├── left_camera\n",
      "│                           ├── fl_link7\n",
      "│                           └── fl_link8\n",
      "├── fr_base_link\n",
      "│   └── fr_link1\n",
      "│       └── fr_link2\n",
      "│           └── fr_link3\n",
      "│               └── fr_link4\n",
      "│                   └── fr_link5\n",
      "│                       └── fr_link6\n",
      "│                           ├── right_camera\n",
      "│                           ├── fr_link7\n",
      "│                           └── fr_link8\n",
      "├── lr_base_link\n",
      "│   └── lr_link1\n",
      "│       └── lr_link2\n",
      "│           └── lr_link3\n",
      "│               └── lr_link4\n",
      "│                   └── lr_link5\n",
      "│                       └── lr_link6\n",
      "│                           └── lr_link7\n",
      "└── rr_base_link\n",
      "    └── rr_link1\n",
      "        └── rr_link2\n",
      "            └── rr_link3\n",
      "                └── rr_link4\n",
      "                    └── rr_link5\n",
      "                        └── rr_link6\n",
      "                            └── rr_link7\n",
      "\n"
     ]
    }
   ],
   "source": [
    "import pytorch_kinematics as pk\n",
    "import torch\n",
    "urdf = f\"/home/pine/RoboTwin/aloha_maniskill_sim/urdf/arx5_description_isaac.urdf\"\n",
    "# urdf = f\"/data1/hydeng/Keguide_RoboTwin/aloha_maniskill_sim/urdf/arx5_description_isaac.urdf\"\n",
    "# there are multiple natural end effector links so it's not a serial chain\n",
    "chain = pk.build_chain_from_urdf(open(urdf, mode=\"rb\").read())\n",
    "pk_chain_left = pk.build_serial_chain_from_urdf(\n",
    "                open(urdf, mode=\"rb\").read(), \n",
    "                end_link_name=\"fl_base_link\",\n",
    "                root_link_name=\"footprint\"\n",
    "            )\n",
    "print(pk_chain_left)\n",
    "# visualize the frames (the string is also returned)\n",
    "kinematic_tree = chain.print_tree()\n",
    "\n"
   ]
  },
  {
   "cell_type": "code",
   "execution_count": 5,
   "metadata": {},
   "outputs": [
    {
     "name": "stdout",
     "output_type": "stream",
     "text": [
      "fl_base_link\n",
      "└── fl_link1\n",
      "    └── fl_link2\n",
      "        └── fl_link3\n",
      "            └── fl_link4\n",
      "                └── fl_link5\n",
      "                    └── fl_link6\n",
      "\n"
     ]
    },
    {
     "data": {
      "text/plain": [
       "'fl_base_link\\n└── fl_link1\\n    └── fl_link2\\n        └── fl_link3\\n            └── fl_link4\\n                └── fl_link5\\n                    └── fl_link6\\n'"
      ]
     },
     "execution_count": 5,
     "metadata": {},
     "output_type": "execute_result"
    }
   ],
   "source": [
    "# extract a specific serial chain such as for inverse kinematics\n",
    "serial_chain = pk.SerialChain(chain, \"fl_link6\", \"fl_base_link\")\n",
    "serial_chain.print_tree()"
   ]
  },
  {
   "cell_type": "code",
   "execution_count": 9,
   "metadata": {},
   "outputs": [],
   "source": [
    "def get_transform_base_to_fl(urdf_data):\n",
    "    \"\"\"\n",
    "    使用 PyTorch-Kinematics 获取 base_link -> fl_base_link 的 4x4 变换矩阵。\n",
    "    注意: base_link 和 fl_base_link 父节点都是 footprint，需要先分别求它们相对于 footprint 的变换。\n",
    "    \"\"\"\n",
    "    # 1) 构造 'footprint' -> 'base_link' 链\n",
    "    chain_base = pk.build_serial_chain_from_urdf(\n",
    "        urdf_data,\n",
    "        end_link_name=\"base_link\",\n",
    "        root_link_name=\"footprint\"\n",
    "    )\n",
    "    # 由于是固定关节(或者没有可动关节)，这里传一个空列表即可\n",
    "    # end_only=False, 获取整个链所有 link 的 Transform; 也可 end_only=True 后直接取返回的 Transform3d\n",
    "    ret_base = chain_base.forward_kinematics([], end_only=False)\n",
    "    # ret_base 是一个 dict, ret_base[\"base_link\"] 就是 footprint->base_link 的 Transform3d\n",
    "    tf_base = ret_base[\"base_link\"].get_matrix()  # (1, 4, 4) 形状的张量\n",
    "    \n",
    "    # 2) 构造 'footprint' -> 'fl_base_link' 链\n",
    "    chain_fl = pk.build_serial_chain_from_urdf(\n",
    "        urdf_data,\n",
    "        end_link_name=\"fr_base_link\",\n",
    "        root_link_name=\"footprint\"\n",
    "    )\n",
    "    ret_fl = chain_fl.forward_kinematics([], end_only=False)\n",
    "    tf_fl = ret_fl[\"fr_base_link\"].get_matrix()  # (1, 4, 4)\n",
    "    \n",
    "    # 3) 做变换运算: base_link -> fl_base_link = inv(footprint->base_link) @ (footprint->fl_base_link)\n",
    "    # tf_base 和 tf_fl 的 shape 都是 (1,4,4)，先 squeeze 一下拿到 (4,4)，或直接保持(1,4,4)也行\n",
    "    tf_base_44 = tf_base.squeeze(0)  # shape = (4,4)\n",
    "    tf_fl_44 = tf_fl.squeeze(0)      # shape = (4,4)\n",
    "    T_base_to_fl = torch.inverse(tf_base_44) @ tf_fl_44  # (4,4) 的张量\n",
    "    \n",
    "    return T_base_to_fl, tf_base_44, tf_fl_44"
   ]
  },
  {
   "cell_type": "code",
   "execution_count": null,
   "metadata": {},
   "outputs": [],
   "source": []
  },
  {
   "cell_type": "code",
   "execution_count": 11,
   "metadata": {},
   "outputs": [
    {
     "name": "stdout",
     "output_type": "stream",
     "text": [
      "Transform [base_link -> fl_base_link] =\n",
      " tensor([[1.0000, 0.0000, 0.0000, 0.0000],\n",
      "        [0.0000, 1.0000, 0.0000, 0.0000],\n",
      "        [0.0000, 0.0000, 1.0000, 0.1500],\n",
      "        [0.0000, 0.0000, 0.0000, 1.0000]])\n",
      "Transform [base_link -> fl_base_link] =\n",
      " tensor([[ 1.0000,  0.0000,  0.0000,  0.2330],\n",
      "        [ 0.0000,  1.0000,  0.0000, -0.3000],\n",
      "        [ 0.0000,  0.0000,  1.0000,  0.7775],\n",
      "        [ 0.0000,  0.0000,  0.0000,  1.0000]])\n",
      "Transform [base_link -> fr_base_link] =\n",
      " tensor([[ 1.0000,  0.0000,  0.0000,  0.2330],\n",
      "        [ 0.0000,  1.0000,  0.0000, -0.3000],\n",
      "        [ 0.0000,  0.0000,  1.0000,  0.6275],\n",
      "        [ 0.0000,  0.0000,  0.0000,  1.0000]])\n"
     ]
    }
   ],
   "source": [
    "T_base_to_fl, tf_base_44, tf_fl_44 = get_transform_base_to_fl(open(urdf, mode=\"rb\").read())\n",
    "print(\"Transform [base_link -> fl_base_link] =\\n\", tf_base_44)\n",
    "print(\"Transform [base_link -> fl_base_link] =\\n\", tf_fl_44)\n",
    "print(\"Transform [base_link -> fr_base_link] =\\n\", T_base_to_fl)"
   ]
  }
 ],
 "metadata": {
  "kernelspec": {
   "display_name": "RoboTwin",
   "language": "python",
   "name": "python3"
  },
  "language_info": {
   "codemirror_mode": {
    "name": "ipython",
    "version": 3
   },
   "file_extension": ".py",
   "mimetype": "text/x-python",
   "name": "python",
   "nbconvert_exporter": "python",
   "pygments_lexer": "ipython3",
   "version": "3.8.20"
  }
 },
 "nbformat": 4,
 "nbformat_minor": 2
}
